{
  "nbformat": 4,
  "nbformat_minor": 0,
  "metadata": {
    "colab": {
      "name": "Evolução dos exercícios em Python",
      "provenance": [],
      "authorship_tag": "ABX9TyNyPOkQ7YumJRkaGxiC7kLL",
      "include_colab_link": true
    },
    "kernelspec": {
      "name": "python3",
      "display_name": "Python 3"
    },
    "language_info": {
      "name": "python"
    }
  },
  "cells": [
    {
      "cell_type": "markdown",
      "metadata": {
        "id": "view-in-github",
        "colab_type": "text"
      },
      "source": [
        "<a href=\"https://colab.research.google.com/github/LucianoKkyT/LucianoKkyT/blob/main/Evolu%C3%A7%C3%A3o_dos_exerc%C3%ADcios_em_Python.ipynb\" target=\"_parent\"><img src=\"https://colab.research.google.com/assets/colab-badge.svg\" alt=\"Open In Colab\"/></a>"
      ]
    },
    {
      "cell_type": "code",
      "execution_count": null,
      "metadata": {
        "colab": {
          "base_uri": "https://localhost:8080/"
        },
        "id": "U4LSx0qXLDEe",
        "outputId": "89e68424-f888-420f-85ec-9201bf217352"
      },
      "outputs": [
        {
          "output_type": "stream",
          "name": "stdout",
          "text": [
            "A média entre os 3 números é 24.333333333333332\n"
          ]
        }
      ],
      "source": [
        "a = int(23)\n",
        "b = int(19)\n",
        "c = int(31)\n",
        "r = (a + b + c) / 3\n",
        "print('A média entre os 3 números é {}'.format(r))"
      ]
    },
    {
      "cell_type": "code",
      "source": [
        "x = int(403)\n",
        "r = (x / 73)\n",
        "print('O número de vezes que 73 cabe em 403 é {}'.format(r))"
      ],
      "metadata": {
        "colab": {
          "base_uri": "https://localhost:8080/"
        },
        "id": "QiVzBiYgMJ2z",
        "outputId": "8625673d-b6a3-437d-d92d-3887744ac861"
      },
      "execution_count": null,
      "outputs": [
        {
          "output_type": "stream",
          "name": "stdout",
          "text": [
            "O número de vezes que 73 cabe em 403 é 5.52054794520548\n"
          ]
        }
      ]
    },
    {
      "cell_type": "code",
      "source": [
        "x = int(403)\n",
        "r = (x % 73)\n",
        "print('A sobra da divisão de 403 por 73 é {}'.format(r))"
      ],
      "metadata": {
        "colab": {
          "base_uri": "https://localhost:8080/"
        },
        "id": "l5FUqv2lMYWX",
        "outputId": "1e9f6b52-753d-43f0-a3f4-c56c43fb4837"
      },
      "execution_count": null,
      "outputs": [
        {
          "output_type": "stream",
          "name": "stdout",
          "text": [
            "A sobra da divisão de 403 por 73 é 38\n"
          ]
        }
      ]
    },
    {
      "cell_type": "code",
      "source": [
        "a = int(1)\n",
        "b = int(2)\n",
        "c = int(3)\n",
        "d = int(4)\n",
        "e = int(5)\n",
        "r = a + b + c + d + e\n",
        "print('A somatória dos cinco primeiros números é {}'.format(r))\n"
      ],
      "metadata": {
        "colab": {
          "base_uri": "https://localhost:8080/"
        },
        "id": "YZHwSI8mNobq",
        "outputId": "8bf641cb-ddb7-4650-b4a8-3387dbe24c6b"
      },
      "execution_count": null,
      "outputs": [
        {
          "output_type": "stream",
          "name": "stdout",
          "text": [
            "A somatória dos cinco primeiros números é 15\n"
          ]
        }
      ]
    },
    {
      "cell_type": "code",
      "source": [
        "x = int(2)\n",
        "r = (x**10)\n",
        "print('Dois elevado a décima potência é {}'.format(r))"
      ],
      "metadata": {
        "colab": {
          "base_uri": "https://localhost:8080/"
        },
        "id": "Ht0DM0k2OQY1",
        "outputId": "2b204f99-4425-4100-dff6-0dbf63f3870b"
      },
      "execution_count": null,
      "outputs": [
        {
          "output_type": "stream",
          "name": "stdout",
          "text": [
            "Dois elevado a décima potência é 1024\n"
          ]
        }
      ]
    },
    {
      "cell_type": "code",
      "source": [
        "a = int(54)\n",
        "b = int(57)\n",
        "r = (a - b)\n",
        "print('O valor absoluto  entre 54 e 57 é {}'.format(r))"
      ],
      "metadata": {
        "colab": {
          "base_uri": "https://localhost:8080/"
        },
        "id": "jcgY643gPgOn",
        "outputId": "e87335f9-58b0-4cdb-c5c3-19238fd547b9"
      },
      "execution_count": null,
      "outputs": [
        {
          "output_type": "stream",
          "name": "stdout",
          "text": [
            "O valor absoluto  entre 54 e 57 é -3\n"
          ]
        }
      ]
    },
    {
      "cell_type": "code",
      "source": [
        "a = int(34)\n",
        "b = int(29)\n",
        "c = int(31)\n",
        "if (b < a):\n",
        " print(b)\n",
        "if (b > c):\n",
        " print(c)"
      ],
      "metadata": {
        "colab": {
          "base_uri": "https://localhost:8080/"
        },
        "id": "Ck2010FFSjxs",
        "outputId": "f83cf178-4847-4109-b58e-8c00c5e38912"
      },
      "execution_count": null,
      "outputs": [
        {
          "output_type": "stream",
          "name": "stdout",
          "text": [
            "29\n"
          ]
        }
      ]
    },
    {
      "cell_type": "code",
      "source": [
        "print(2 + 2 * 3)"
      ],
      "metadata": {
        "colab": {
          "base_uri": "https://localhost:8080/"
        },
        "id": "CFAZNbYeowNQ",
        "outputId": "5d69889b-8009-4892-b6d0-5e44fe04809a"
      },
      "execution_count": null,
      "outputs": [
        {
          "output_type": "stream",
          "name": "stdout",
          "text": [
            "8\n"
          ]
        }
      ]
    },
    {
      "cell_type": "code",
      "source": [
        "print(4**2 / 3)"
      ],
      "metadata": {
        "colab": {
          "base_uri": "https://localhost:8080/"
        },
        "id": "2Ru8I8ORo31H",
        "outputId": "2911535b-6f07-45ea-94bc-f7a765df9e20"
      },
      "execution_count": null,
      "outputs": [
        {
          "output_type": "stream",
          "name": "stdout",
          "text": [
            "5.333333333333333\n"
          ]
        }
      ]
    },
    {
      "cell_type": "code",
      "source": [
        "print((9**2 + 2) * 6 - 1)"
      ],
      "metadata": {
        "colab": {
          "base_uri": "https://localhost:8080/"
        },
        "id": "SaUzB_OopCr4",
        "outputId": "2e99f6e3-4e7c-413e-c2f4-ceba34fda819"
      },
      "execution_count": null,
      "outputs": [
        {
          "output_type": "stream",
          "name": "stdout",
          "text": [
            "497\n"
          ]
        }
      ]
    },
    {
      "cell_type": "code",
      "source": [
        "disciplina = 'Lógica de Programação e Algorítimos'\n",
        "nota = 8.5\n",
        "print('Disciplina:',disciplina, '. Nota:', nota)"
      ],
      "metadata": {
        "colab": {
          "base_uri": "https://localhost:8080/"
        },
        "id": "L71dKqyVrifi",
        "outputId": "8ca17b19-8009-43ba-806c-9f6e6dc22cc9"
      },
      "execution_count": null,
      "outputs": [
        {
          "output_type": "stream",
          "name": "stdout",
          "text": [
            "Disciplina: Lógica de Programação e Algorítimos . Nota: 8.5\n"
          ]
        }
      ]
    },
    {
      "cell_type": "code",
      "source": [
        "varSentv = 42\n",
        "print('A variável', varSentv, 'é o sentido da vida')"
      ],
      "metadata": {
        "colab": {
          "base_uri": "https://localhost:8080/"
        },
        "id": "VRdY3OxJxv_i",
        "outputId": "be943437-e73b-4eef-fe36-54720ce9b83b"
      },
      "execution_count": null,
      "outputs": [
        {
          "output_type": "stream",
          "name": "stdout",
          "text": [
            "A variável 42 é o sentido da vida\n"
          ]
        }
      ]
    },
    {
      "cell_type": "code",
      "source": [
        "a = 1\n",
        "b = 5\n",
        "resposta = a == b\n",
        "print(resposta)"
      ],
      "metadata": {
        "colab": {
          "base_uri": "https://localhost:8080/"
        },
        "id": "GPsSvXrB2Eiu",
        "outputId": "6d6a21a4-5e79-49f3-a327-ad309ecedcd0"
      },
      "execution_count": null,
      "outputs": [
        {
          "output_type": "stream",
          "name": "stdout",
          "text": [
            "False\n"
          ]
        }
      ]
    },
    {
      "cell_type": "code",
      "source": [
        "a = 1\n",
        "b = 5\n",
        "resposta = a != b\n",
        "print(resposta)"
      ],
      "metadata": {
        "colab": {
          "base_uri": "https://localhost:8080/"
        },
        "id": "S-bi9dHC2Xew",
        "outputId": "4bb39839-e85d-4115-b6b5-f76b9b6ab118"
      },
      "execution_count": null,
      "outputs": [
        {
          "output_type": "stream",
          "name": "stdout",
          "text": [
            "True\n"
          ]
        }
      ]
    },
    {
      "cell_type": "code",
      "source": [
        "nota_aluno = 9\n",
        "media = 7\n",
        "comparacao = nota_aluno > media\n",
        "print('Aluno aprovado?',comparacao)"
      ],
      "metadata": {
        "colab": {
          "base_uri": "https://localhost:8080/"
        },
        "id": "AzAzS20Y2mqV",
        "outputId": "15757ef2-2f96-4399-a834-0ad2f52a67f7"
      },
      "execution_count": null,
      "outputs": [
        {
          "output_type": "stream",
          "name": "stdout",
          "text": [
            "Aluno aprovado? True\n"
          ]
        }
      ]
    },
    {
      "cell_type": "code",
      "source": [
        "frase = ('Olá, mundo!') # ÍNDICE\n",
        "print(frase)\n",
        "print(frase[0])"
      ],
      "metadata": {
        "colab": {
          "base_uri": "https://localhost:8080/"
        },
        "id": "rPitnl9b5KuU",
        "outputId": "334ddd65-69db-43b0-aef2-a5a373832c09"
      },
      "execution_count": null,
      "outputs": [
        {
          "output_type": "stream",
          "name": "stdout",
          "text": [
            "Olá, mundo!\n",
            "O\n"
          ]
        }
      ]
    },
    {
      "cell_type": "code",
      "source": [
        "s1 = 'Lógica de Programação' # CONCATENAÇÃO\n",
        "s1 = s1 + ' e Algorítimos'\n",
        "print(s1)"
      ],
      "metadata": {
        "colab": {
          "base_uri": "https://localhost:8080/"
        },
        "id": "cMXaudue6jF4",
        "outputId": "532412fb-930d-4248-8b17-3a1e11d289a8"
      },
      "execution_count": null,
      "outputs": [
        {
          "output_type": "stream",
          "name": "stdout",
          "text": [
            "Lógica de Programação e Algorítimos\n"
          ]
        }
      ]
    },
    {
      "cell_type": "code",
      "source": [
        "s1 = 'A' + '-' * 10 + 'B' # MULTIPLICAÇÃO\n",
        "print(s1) "
      ],
      "metadata": {
        "colab": {
          "base_uri": "https://localhost:8080/"
        },
        "id": "oji6f49w7Nmh",
        "outputId": "c2fb5550-307d-49a9-b599-bb6ab9d823c6"
      },
      "execution_count": null,
      "outputs": [
        {
          "output_type": "stream",
          "name": "stdout",
          "text": [
            "A----------B\n"
          ]
        }
      ]
    },
    {
      "cell_type": "code",
      "source": [
        "l1 = 'Python' # CONCATENAÇÃO COM MULTIPLICAÇÃO\n",
        "l2 = 'C'\n",
        "l3 = 'Java'\n",
        "l4 = 'PHP'\n",
        "print('Linguagens de Programação: \\n \\t')\n",
        "print(l1, '-' * 5, l2, '-'* 5, l3, '-'* 5, l4)\n"
      ],
      "metadata": {
        "colab": {
          "base_uri": "https://localhost:8080/"
        },
        "id": "6VGUt4Ns8IW5",
        "outputId": "930a4230-d994-48d0-a9a2-f016468d44a6"
      },
      "execution_count": null,
      "outputs": [
        {
          "output_type": "stream",
          "name": "stdout",
          "text": [
            "Linguagens de Programação: \n",
            " \t\n",
            "Python ----- C ----- Java ----- PHP\n"
          ]
        }
      ]
    },
    {
      "cell_type": "code",
      "source": [
        "nota = 8.5\n",
        "s1 = 'Você tirou %f na disciplina de Algorítimos'% nota # COMPOSIÇÃO PONTO FLUTUANTE\n",
        "print(s1)\n"
      ],
      "metadata": {
        "colab": {
          "base_uri": "https://localhost:8080/"
        },
        "id": "kgmEC09QlDeo",
        "outputId": "c27eb658-74c0-4e5a-dd37-b53e03b23b02"
      },
      "execution_count": null,
      "outputs": [
        {
          "output_type": "stream",
          "name": "stdout",
          "text": [
            "Você tirou 8.500000 na disciplina de Algorítimos\n"
          ]
        }
      ]
    },
    {
      "cell_type": "code",
      "source": [
        "nota = 8.5\n",
        "s1 = 'Você tirou %.2f na disciplina de Algorítimos'% nota # COMPOSIÇÃO PONTO FLUTUANTE COM DUAS CASAS DECIMAIS\n",
        "print(s1)"
      ],
      "metadata": {
        "colab": {
          "base_uri": "https://localhost:8080/"
        },
        "id": "KAn5GWbwmLja",
        "outputId": "5d96c46b-03e1-4eb7-eb49-d94b8df0ed04"
      },
      "execution_count": null,
      "outputs": [
        {
          "output_type": "stream",
          "name": "stdout",
          "text": [
            "Você tirou 8.50 na disciplina de Algorítimos\n"
          ]
        }
      ]
    },
    {
      "cell_type": "code",
      "source": [
        "nota = 8.5\n",
        "s1 = 'Você tirou %d na disciplina de Algorítimos'% nota # COMPOSIÇÃO COM \"d\"DE NÚMEROS INTEIROS \n",
        "print(s1)"
      ],
      "metadata": {
        "colab": {
          "base_uri": "https://localhost:8080/"
        },
        "id": "0COxp1lymwQa",
        "outputId": "87348aff-4018-43fb-a59f-2fae6696eaf4"
      },
      "execution_count": null,
      "outputs": [
        {
          "output_type": "stream",
          "name": "stdout",
          "text": [
            "Você tirou 8 na disciplina de Algorítimos\n"
          ]
        }
      ]
    },
    {
      "cell_type": "code",
      "source": [
        "nota = 8.5\n",
        "disciplina = 'Algorítimos'\n",
        "s1 = 'Você tirou %d na disciplina de %s'% (nota, disciplina) # VARIÁVEL FLUTUANTE E VARIÁVEL STRING\n",
        "print(s1)"
      ],
      "metadata": {
        "colab": {
          "base_uri": "https://localhost:8080/"
        },
        "id": "wsHIIRcDniEM",
        "outputId": "f29dfd96-2f48-45d1-9b23-c355b9ba0815"
      },
      "execution_count": null,
      "outputs": [
        {
          "output_type": "stream",
          "name": "stdout",
          "text": [
            "Você tirou 8 na disciplina de Algorítimos\n"
          ]
        }
      ]
    },
    {
      "cell_type": "code",
      "source": [
        "nota = 8.5\n",
        "disciplina = 'Algorítimos'\n",
        "s1 = 'Você tirou {} na disciplinda de {}'.format (nota, disciplina) # NOMENCLATURA ALTERNATIVA\n",
        "print(s1)"
      ],
      "metadata": {
        "colab": {
          "base_uri": "https://localhost:8080/"
        },
        "id": "2VKDK3Bdoa3U",
        "outputId": "d59db510-d961-4394-d58c-2216a573c7f4"
      },
      "execution_count": null,
      "outputs": [
        {
          "output_type": "stream",
          "name": "stdout",
          "text": [
            "Você tirou 8.5 na disciplinda de Algorítimos\n"
          ]
        }
      ]
    },
    {
      "cell_type": "code",
      "source": [
        "comida = 'churrasco'\n",
        "anoNasc = 1979\n",
        "media = 47.12\n",
        "s1 = 'Gosto muito de %s. Eu nasci em %d e a o valor da divisão do meu ano de nascimento pela minha idade é %.2f'% (comida, anoNasc, media)\n",
        "print(s1)\n",
        "\n",
        "                                                                                                              \n"
      ],
      "metadata": {
        "colab": {
          "base_uri": "https://localhost:8080/"
        },
        "id": "fwMdSHabo9g0",
        "outputId": "3ad65e19-2eb5-4c37-b0fb-3e6685224f02"
      },
      "execution_count": null,
      "outputs": [
        {
          "output_type": "stream",
          "name": "stdout",
          "text": [
            "Gosto muito de churrasco. Eu nasci em 1979 e a o valor da divisão do meu ano de nascimento pela minha idade é 47.12\n"
          ]
        }
      ]
    },
    {
      "cell_type": "code",
      "source": [
        "s1 = 'Lógica de Programação e Algorítimos' # FATIAMENTO 1\n",
        "print(s1[0:6])"
      ],
      "metadata": {
        "colab": {
          "base_uri": "https://localhost:8080/"
        },
        "id": "JHOjl93CzWKN",
        "outputId": "013cf2af-3338-492f-e929-4e32c6896121"
      },
      "execution_count": null,
      "outputs": [
        {
          "output_type": "stream",
          "name": "stdout",
          "text": [
            "Lógica\n"
          ]
        }
      ]
    },
    {
      "cell_type": "code",
      "source": [
        "s1 = 'Lógica de Programação e Algorítimos' #FATIAMENTO 2\n",
        "print(s1[24:35])"
      ],
      "metadata": {
        "colab": {
          "base_uri": "https://localhost:8080/"
        },
        "id": "emPmyYtez5ak",
        "outputId": "b4aa1b70-1f36-4a84-ce87-20e44340549b"
      },
      "execution_count": null,
      "outputs": [
        {
          "output_type": "stream",
          "name": "stdout",
          "text": [
            "Algorítimos\n"
          ]
        }
      ]
    },
    {
      "cell_type": "code",
      "source": [
        "s1 = 'Lógica de Programação e Algorítimos' #FATIAMENTO 3\n",
        "print(s1[:6])"
      ],
      "metadata": {
        "colab": {
          "base_uri": "https://localhost:8080/"
        },
        "id": "oFv8gZMI0ccG",
        "outputId": "4813aba3-a3c1-420f-aa46-391a0c9bcf7f"
      },
      "execution_count": null,
      "outputs": [
        {
          "output_type": "stream",
          "name": "stdout",
          "text": [
            "Lógica\n"
          ]
        }
      ]
    },
    {
      "cell_type": "code",
      "source": [
        "s1 = 'Lógica de Programação e Algorítimos' # LENGHT = TAMANHO\n",
        "tamanho = len(s1)\n",
        "print(tamanho)"
      ],
      "metadata": {
        "colab": {
          "base_uri": "https://localhost:8080/"
        },
        "id": "xDjxMNuq1Bz7",
        "outputId": "5bafba65-a8e9-4e39-a8cc-817cc343d8e3"
      },
      "execution_count": null,
      "outputs": [
        {
          "output_type": "stream",
          "name": "stdout",
          "text": [
            "35\n"
          ]
        }
      ]
    },
    {
      "cell_type": "code",
      "source": [
        "nomeComp = 'Luciano da Silva'\n",
        "tamanhoNome = len(nomeComp)\n",
        "if tamanhoNome <= 15:\n",
        "  print('Quantidade de caracteres menor ou igual a 15')\n",
        "else:\n",
        "  print('Caracteres maior que 15')"
      ],
      "metadata": {
        "colab": {
          "base_uri": "https://localhost:8080/"
        },
        "id": "NBHKXPTE2Epr",
        "outputId": "47275271-3878-464d-f683-993efcd130b7"
      },
      "execution_count": null,
      "outputs": [
        {
          "output_type": "stream",
          "name": "stdout",
          "text": [
            "Caracteres maior que 15\n"
          ]
        }
      ]
    },
    {
      "cell_type": "code",
      "source": [
        "nome = (input('Qual o seu nome? '))\n",
        "print('Olá {}, seja bem vindo!'.format (nome))\n"
      ],
      "metadata": {
        "colab": {
          "base_uri": "https://localhost:8080/"
        },
        "id": "nI6-q04y7ZQW",
        "outputId": "ea42f1f5-907e-4c0f-e13f-f6d62e59b8f8"
      },
      "execution_count": null,
      "outputs": [
        {
          "output_type": "stream",
          "name": "stdout",
          "text": [
            "Qual o seu nome? Luciano\n",
            "Olá Luciano, seja bem vindo!\n"
          ]
        }
      ]
    },
    {
      "cell_type": "code",
      "source": [
        "nota = float(input('Qual nota você recebeu na disciplina? ')) # CONVERTENDO DADOS DE ENTRADA\n",
        "print('Você tirou nota {}'.format (nota))"
      ],
      "metadata": {
        "colab": {
          "base_uri": "https://localhost:8080/"
        },
        "id": "zSVgSZRuEOSs",
        "outputId": "a11c6b2a-af5a-4b59-c191-88b2f98eaa9d"
      },
      "execution_count": null,
      "outputs": [
        {
          "output_type": "stream",
          "name": "stdout",
          "text": [
            "Qual nota você recebeu na disciplina? 8.5\n",
            "Você tirou nota 8.5\n"
          ]
        }
      ]
    },
    {
      "cell_type": "code",
      "source": [
        "celsius = float(input('Digite uma temperatua em Celsius: '))\n",
        "fahrenheit = (9 * celsius / 5) + 32\n",
        "print('Celsius: %.1f. Fahrenheit: %.1f' % (celsius, fahrenheit))\n",
        "print('Celsius: {}. Fahrenheit: {} '.format (celsius, fahrenheit))"
      ],
      "metadata": {
        "colab": {
          "base_uri": "https://localhost:8080/"
        },
        "id": "FMHfpz6jHgqC",
        "outputId": "cb1fe81c-a8df-481f-f790-ae7a89f53367"
      },
      "execution_count": null,
      "outputs": [
        {
          "output_type": "stream",
          "name": "stdout",
          "text": [
            "Digite uma temperatua em Celsius: 20\n",
            "Celsius: 20.0. Fahrenheit: 68.0\n",
            "Celsius: 20.0. Fahrenheit: 68.0 \n"
          ]
        }
      ]
    },
    {
      "cell_type": "code",
      "source": [
        "i = 3 # \"i\" DE ITERADOR\n",
        "while i < 13:\n",
        "    print(i)\n",
        "    i += 1\n"
      ],
      "metadata": {
        "colab": {
          "base_uri": "https://localhost:8080/"
        },
        "id": "sML5BN9kSSsB",
        "outputId": "ddeef88e-8405-4f9b-b535-940b7fdc8ec2"
      },
      "execution_count": null,
      "outputs": [
        {
          "output_type": "stream",
          "name": "stdout",
          "text": [
            "3\n",
            "4\n",
            "5\n",
            "6\n",
            "7\n",
            "8\n",
            "9\n",
            "10\n",
            "11\n",
            "12\n"
          ]
        }
      ]
    },
    {
      "cell_type": "code",
      "source": [
        "for i in range(3,13,1):\n",
        "    print(i)"
      ],
      "metadata": {
        "colab": {
          "base_uri": "https://localhost:8080/"
        },
        "id": "zqb9lDr8S0Tr",
        "outputId": "52de7a61-6005-4cc4-94bb-939e4896fd21"
      },
      "execution_count": null,
      "outputs": [
        {
          "output_type": "stream",
          "name": "stdout",
          "text": [
            "3\n",
            "4\n",
            "5\n",
            "6\n",
            "7\n",
            "8\n",
            "9\n",
            "10\n",
            "11\n",
            "12\n"
          ]
        }
      ]
    },
    {
      "cell_type": "code",
      "source": [
        "i = 0\n",
        "while (i < 9):\n",
        "    print(i)\n",
        "    i += 2"
      ],
      "metadata": {
        "colab": {
          "base_uri": "https://localhost:8080/"
        },
        "id": "6WLnlhZZUkHc",
        "outputId": "7cc2e3fe-c1cc-4b69-a37e-2edb94c94cf1"
      },
      "execution_count": null,
      "outputs": [
        {
          "output_type": "stream",
          "name": "stdout",
          "text": [
            "0\n",
            "2\n",
            "4\n",
            "6\n",
            "8\n"
          ]
        }
      ]
    },
    {
      "cell_type": "code",
      "source": [
        "for i in range(0,9,2):\n",
        "    print(i)"
      ],
      "metadata": {
        "colab": {
          "base_uri": "https://localhost:8080/"
        },
        "id": "rXfmIwIfU1QD",
        "outputId": "d29beead-d08b-42e1-9e31-b4594d62f413"
      },
      "execution_count": null,
      "outputs": [
        {
          "output_type": "stream",
          "name": "stdout",
          "text": [
            "0\n",
            "2\n",
            "4\n",
            "6\n",
            "8\n"
          ]
        }
      ]
    },
    {
      "cell_type": "code",
      "source": [
        "print('CALCULADORA')\n",
        "print('+ Adição')\n",
        "print('- Subtração')\n",
        "print('* Multiplicação')\n",
        "print('/ Divisão')\n",
        "print('Precione outra tecla para sair')\n",
        "op = input('Qual Operação deseja fazer?: ')\n",
        "if op == '+' or op == '-' or op == '*' or op == '/':\n",
        "   x = int(input('Digite o primeiro valor: '))\n",
        "   y = int(input('Digite o segundo valor: '))\n",
        "while op != \"s\": # WHILE 1a FORMA\n",
        "    if op == '+':\n",
        "        res = x + y\n",
        "        print('Resultado: {} + {} = {}'.format(x, y, res))\n",
        "        print('Ou digite \"s\" para encerrar')\n",
        "    elif op == '-':\n",
        "        res = x - y\n",
        "        print('Resultado: {} - {} = {}'.format(x, y, res))\n",
        "        print('Ou digite \"s\" para encerrar')\n",
        "    elif op == '*':\n",
        "        res = x * y\n",
        "        print('Resultado: {} * {} = {}'.format(x, y, res))\n",
        "        print('Ou digite \"s\" para encerrar')\n",
        "    elif op == '/':\n",
        "        res = x / y\n",
        "        print('Resultado: {} / {} = {} '.format(x, y, res))\n",
        "        print('Ou digite \"s\" para encerrar')\n",
        "    else:\n",
        "        print('Operação Inválida')\n",
        "    op = input('Qual Operação deseja fazer?: ')\n",
        "    if op == '+' or op == '-' or op == '*' or op == '/': # REPETE A CONDIÇÃO NO FINAL\n",
        "        x = int(input('Digite o primeiro valor: '))\n",
        "        y = int(input('Digite o segundo valor: '))\n",
        "print('Encerrando o programa!')"
      ],
      "metadata": {
        "colab": {
          "base_uri": "https://localhost:8080/"
        },
        "id": "0pJ9KwgpDBIE",
        "outputId": "52c94667-0697-4f42-ba92-5c2569d71b6e"
      },
      "execution_count": null,
      "outputs": [
        {
          "output_type": "stream",
          "name": "stdout",
          "text": [
            "CALCULADORA\n",
            "+ Adição\n",
            "- Subtração\n",
            "* Multiplicação\n",
            "/ Divisão\n",
            "Precione outra tecla para sair\n",
            "Qual Operação deseja fazer?: +\n",
            "Digite o primeiro valor: 10\n",
            "Digite o segundo valor: 5\n",
            "Resultado: 10 + 5 = 15\n",
            "Ou digite \"s\" para encerrar\n",
            "Qual Operação deseja fazer?: -\n",
            "Digite o primeiro valor: 10\n",
            "Digite o segundo valor: 5\n",
            "Resultado: 10 - 5 = 5\n",
            "Ou digite \"s\" para encerrar\n",
            "Qual Operação deseja fazer?: *\n",
            "Digite o primeiro valor: 10\n",
            "Digite o segundo valor: 5\n",
            "Resultado: 10 * 5 = 50\n",
            "Ou digite \"s\" para encerrar\n",
            "Qual Operação deseja fazer?: /\n",
            "Digite o primeiro valor: 10\n",
            "Digite o segundo valor: 5\n",
            "Resultado: 10 / 5 = 2.0 \n",
            "Ou digite \"s\" para encerrar\n",
            "Qual Operação deseja fazer?: r\n",
            "Operação Inválida\n",
            "Qual Operação deseja fazer?: s\n",
            "Encerrando o programa!\n"
          ]
        }
      ]
    },
    {
      "cell_type": "code",
      "source": [
        "print('CALCULADORA')\n",
        "print('+ Adição')\n",
        "print('- Subtração')\n",
        "print('* Multiplicação')\n",
        "print('/ Divisão')\n",
        "print('Precione outra tecla para sair')\n",
        "while True: # WHILE TRUE \n",
        "    op = input('Qual Operação deseja fazer?: ')\n",
        "    if op == '+' or op == '-' or op == '*' or op == '/':\n",
        "        x = int(input('Digite o primeiro valor: '))\n",
        "        y = int(input('Digite o segundo valor: '))\n",
        "\n",
        "    if op == '+':\n",
        "        res = x + y\n",
        "        print('Resultado: {} + {} = {}'.format(x, y, res))\n",
        "        print('Digite \"s\" para encerrar')\n",
        "        continue # CONTINUE PARA VOLTAR AO WHILE\n",
        "    elif op == '-':\n",
        "        res = x - y\n",
        "        print('Resultado: {} - {} = {}'.format(x, y, res))\n",
        "        print('Digite \"s\" para encerrar')\n",
        "        continue\n",
        "    elif op == '*':\n",
        "        res = x * y\n",
        "        print('Resultado: {} * {} = {}'.format(x, y, res))\n",
        "        print('Digite \"s\" para encerrar')\n",
        "        continue\n",
        "    elif op == '/':\n",
        "        res = x / y\n",
        "        print('Resultado: {} / {} = {} '.format(x, y, res))\n",
        "        print('Digite \"s\" para encerrar')\n",
        "    elif op == 's':\n",
        "        print('Encerrando o sistema...')\n",
        "        break # NÃO PRECISA COLOCAR A CONDIÇÃO EM BAIXO - USAMOS BREAK PARA PARAR\n",
        "    else:\n",
        "        print('Opção Inválida!')"
      ],
      "metadata": {
        "colab": {
          "base_uri": "https://localhost:8080/"
        },
        "id": "E5WbIhxNQH9X",
        "outputId": "3d547b80-5b7a-48a8-8a88-4e1c131dfa42"
      },
      "execution_count": null,
      "outputs": [
        {
          "output_type": "stream",
          "name": "stdout",
          "text": [
            "CALCULADORA\n",
            "+ Adição\n",
            "- Subtração\n",
            "* Multiplicação\n",
            "/ Divisão\n",
            "Precione outra tecla para sair\n",
            "Qual Operação deseja fazer?: +\n",
            "Digite o primeiro valor: 10\n",
            "Digite o segundo valor: 5\n",
            "Resultado: 10 + 5 = 15\n",
            "Digite \"s\" para encerrar\n",
            "Qual Operação deseja fazer?: -\n",
            "Digite o primeiro valor: 10\n",
            "Digite o segundo valor: 5\n",
            "Resultado: 10 - 5 = 5\n",
            "Digite \"s\" para encerrar\n",
            "Qual Operação deseja fazer?: *\n",
            "Digite o primeiro valor: 10\n",
            "Digite o segundo valor: 5\n",
            "Resultado: 10 * 5 = 50\n",
            "Digite \"s\" para encerrar\n",
            "Qual Operação deseja fazer?: /\n",
            "Digite o primeiro valor: 10\n",
            "Digite o segundo valor: 5\n",
            "Resultado: 10 / 5 = 2.0 \n",
            "Digite \"s\" para encerrar\n",
            "Qual Operação deseja fazer?: g\n",
            "Opção Inválida!\n",
            "Qual Operação deseja fazer?: +\n",
            "Digite o primeiro valor: 20\n",
            "Digite o segundo valor: 5\n",
            "Resultado: 20 + 5 = 25\n",
            "Digite \"s\" para encerrar\n",
            "Qual Operação deseja fazer?: s\n",
            "Encerrando o sistema...\n"
          ]
        }
      ]
    },
    {
      "cell_type": "code",
      "source": [
        "valor = int(input('Digite o valor em R$: '))\n",
        "\n",
        "while True:\n",
        "  if valor >= 100:\n",
        "      cedulas100 = valor // 100\n",
        "      valor -= cedulas100 * 100\n",
        "      print('Cédulas de R$100,00: {}'.format(cedulas100))\n",
        "      if not valor:\n",
        "        break\n",
        "  if valor >= 50:\n",
        "      cedulas50 = valor // 50\n",
        "      valor -= cedulas50 * 50\n",
        "      print('Cédulas de R$50,00: {}'.format(cedulas50))\n",
        "      if not valor:\n",
        "        break\n",
        "  if valor >= 20:\n",
        "      cedulas20 = valor // 20\n",
        "      valor -= cedulas20 * 20\n",
        "      print('Cédulas de R$20,00: {}'.format(cedulas20))\n",
        "      if not valor:\n",
        "        break\n",
        "  if valor >= 5:\n",
        "      cedulas5 = valor // 5\n",
        "      valor -= cedulas5 * 5\n",
        "      print('Cédulas de R$5,00: {}'.format(cedulas5))\n",
        "      if not valor:\n",
        "        break\n",
        "  if valor >= 2:\n",
        "      cedulas2 = valor // 2\n",
        "      valor -= cedulas2 * 2\n",
        "      print('Cédulas de R$2,00: {}'.format(cedulas2))\n",
        "      if not valor:\n",
        "        break\n",
        "  if valor >= 1:\n",
        "      cedulas1 = valor // 1\n",
        "      valor -= cedulas20 * 1\n",
        "      print('Cédulas de R$1,00: {}'.format(cedulas1))\n",
        "      break\n"
      ],
      "metadata": {
        "id": "2_5ebi1meB9r",
        "outputId": "4b36f922-222a-43d2-c849-3bd6d06a6f96",
        "colab": {
          "base_uri": "https://localhost:8080/"
        }
      },
      "execution_count": null,
      "outputs": [
        {
          "output_type": "stream",
          "name": "stdout",
          "text": [
            "Digite o valor em R$: 378\n",
            "Cédulas de R$100,00: 3\n",
            "Cédulas de R$50,00: 1\n",
            "Cédulas de R$20,00: 1\n",
            "Cédulas de R$5,00: 1\n",
            "Cédulas de R$2,00: 1\n",
            "Cédulas de R$1,00: 1\n"
          ]
        }
      ]
    },
    {
      "cell_type": "code",
      "source": [
        "import os # IMPORTAR A FUNÇÃO 'OS'\n",
        "os.system('clear') or None # COMANDO PARA LIMPAR TELA\n",
        "\n",
        "# O NOME CORRETO\n",
        "esc = 'cpm22'\n",
        "esc2 = 'cpm 22'\n",
        "\n",
        "# MEU AMIGO GOSTA DE AMADO BATISTA FAZER O QUE? TIVE QUE USA-LO NÃO SÓ COMO HOMENAGEM MAS PARA O LOOPING INFINITO SE FORMAR\n",
        "art = 'Amado Batista'\n",
        "\n",
        "# CONTADOR PARA LANÇAR A DICA AUTOMATICAMENTE\n",
        "cont = 9\n",
        "\n",
        "#LOOP INFINITO PQ ELA NÃO IRÁ DESISTIR\n",
        "while (True):\n",
        "    # A PERGUNTA DA VEZ\n",
        "    art = str(input('Qual o show você gostaria de assistir ou ter assistido?'))\n",
        "    \n",
        "    # TESTE PARA VER SE ACERTOU\n",
        "    if (art == esc) or (art ==esc2):\n",
        "        os.system('clear') or None\n",
        "        print('Parabéns, você acertou! Esse é o show que iremos assistir!')\n",
        "        break \n",
        "    \n",
        "    # VAI UMA DICA ??\n",
        "    elif (art == 'dica') or (cont == 0):\n",
        "        os.system('clear') or None\n",
        "        print('#### DICA ####\\n')\n",
        "        print('\"Dias atrás\"...\"')\n",
        "        print('...ou foi \"Ontem\" ???\\n')\n",
        "        print('será que só tinhamos apenas \"1 minuto para o fim do mundo\" ... ')\n",
        "        print('... para assistir um show em uma \"Tarde de Outubro\" !\\n')\n",
        "        print('Ou seriam todas essas nomes de musicas???\\n')\n",
        "        cont = 1\n",
        "        continue\n",
        "\n",
        "    # DEIXANDO CLARO QUE TEM DICAS\n",
        "    elif (art == 'desisto') or (cont <= 5):\n",
        "        os.system('clear') or None\n",
        "        print('Não desista, você pode pedir uma dica!\\n')\n",
        "        cont = cont -1\n",
        "        continue\n",
        "    # QUANDO ELA ERRA !\n",
        "    else:\n",
        "        os.system('clear') or None\n",
        "        print('Não é esse o show que iremos ver... Tente novamente!!!\\n')\n",
        "        cont = cont -1\n",
        "        continue"
      ],
      "metadata": {
        "colab": {
          "base_uri": "https://localhost:8080/"
        },
        "id": "qb9gJwNHTlVt",
        "outputId": "731829f3-0ef0-4cf5-b6d0-a1d7d9616b3a"
      },
      "execution_count": null,
      "outputs": [
        {
          "output_type": "stream",
          "name": "stdout",
          "text": [
            "Qual o show você gostaria de assistir ou ter assistido?samba\n",
            "Não é esse o show que iremos ver... Tente novamente!!!\n",
            "\n",
            "Qual o show você gostaria de assistir ou ter assistido?desisto\n",
            "Não desista, você pode pedir uma dica!\n",
            "\n",
            "Qual o show você gostaria de assistir ou ter assistido?dica\n",
            "#### DICA ####\n",
            "\n",
            "\"Dias atrás\"...\"\n",
            "...ou foi \"Ontem\" ???\n",
            "\n",
            "será que só tinhamos apenas \"1 minuto para o fim do mundo\" ... \n",
            "... para assistir um show em uma \"Tarde de Outubro\" !\n",
            "\n",
            "Ou seriam todas essas nomes de musicas???\n",
            "\n",
            "Qual o show você gostaria de assistir ou ter assistido?pagode\n",
            "Não desista, você pode pedir uma dica!\n",
            "\n",
            "Qual o show você gostaria de assistir ou ter assistido?cpm22\n",
            "Parabéns, você acertou! Esse é o show que iremos assistir!\n"
          ]
        }
      ]
    },
    {
      "cell_type": "code",
      "source": [
        "art = str(input('Qual show você gostaria de assistir ou ter assistido? '))\n",
        "esc = str('cpm 22')\n",
        "esc2 = str('cpm22')\n",
        "if art == 'esc':\n",
        "    resp = art == esc\n",
        "    print('Parabéns, você acertou! Esse é o show que iremos assitir.')\n",
        "elif art == 'esc2':\n",
        "    resp = art == esc2\n",
        "    print('Parabéns, você acertou! Esse é o show que iremos assitir.')\n",
        "while art != 'esc' or 'esc2':\n",
        "    print('Não é esse o show que iremos ver')\n",
        "art = str(input('Qual show você gostaria de assistir ou ter assistido? '))\n",
        "esc = str('cpm 22')\n",
        "esc2 = str('cpm22')\n",
        "print('Parabéns, você acertou! Esse é o show que iremos assitir.')\n",
        "break"
      ],
      "metadata": {
        "id": "7ZqlKymDccRi"
      },
      "execution_count": null,
      "outputs": []
    },
    {
      "cell_type": "code",
      "source": [
        "esc = 'cpm 22'\n",
        "esc2 = 'cpm22'\n",
        "while True:\n",
        "  art = input('Qual show você gostaria de assistir ou ter assistido na sua vida? ')\n",
        "  if art == esc:\n",
        "    print('Parabéns meu amor! Você acertou!')\n",
        "    break\n",
        "  elif art == esc2:\n",
        "    print('Parabéns meu amor! Você acertou!')\n",
        "    break\n",
        "  else:\n",
        "    art != esc and art != esc2\n",
        "    print('Eita! Infelizmente você errou.')\n"
      ],
      "metadata": {
        "colab": {
          "base_uri": "https://localhost:8080/"
        },
        "id": "WdmXuSf5yZs_",
        "outputId": "48cbd36f-0426-4748-8091-945cee46eb2b"
      },
      "execution_count": null,
      "outputs": [
        {
          "output_type": "stream",
          "name": "stdout",
          "text": [
            "Qual show você gostaria de assistir ou ter assistido na sua vida? nirvana\n",
            "Eita! Infelizmente você errou.\n",
            "Qual show você gostaria de assistir ou ter assistido na sua vida? cpm\n",
            "Eita! Infelizmente você errou.\n",
            "Qual show você gostaria de assistir ou ter assistido na sua vida? guns\n",
            "Eita! Infelizmente você errou.\n",
            "Qual show você gostaria de assistir ou ter assistido na sua vida? cpm 22\n",
            "Parabéns meu amor! Você acertou!\n"
          ]
        }
      ]
    },
    {
      "cell_type": "code",
      "source": [
        "totalPe = 0\n",
        "dinheiro = 0\n",
        "ingresso = 0\n",
        "\n",
        "while True:\n",
        "    idade = input('Qual sua idade?: ')\n",
        "    if idade == 'sair':\n",
        "        break\n",
        "    idade = int(idade)\n",
        "    totalPe += 1\n",
        "    if idade < 3:\n",
        "        ingresso == 0\n",
        "    else:\n",
        "        if idade > 12:\n",
        "            ingresso = 30\n",
        "        else:\n",
        "            ingresso = 15\n",
        "    dinheiro += ingresso\n",
        "    idade += totalPe\n",
        "media = dinheiro / totalPe\n",
        "print('Total de pessoas: {}'.format(totalPe))\n",
        "print('Total arrecadado: {}'.format(dinheiro))\n",
        "print('Média arrecadada: {}'.format(media))\n"
      ],
      "metadata": {
        "colab": {
          "base_uri": "https://localhost:8080/"
        },
        "id": "RNJZ1fYrSEMR",
        "outputId": "d3b6792d-4910-412d-eca2-893a591d69f0"
      },
      "execution_count": null,
      "outputs": [
        {
          "output_type": "stream",
          "name": "stdout",
          "text": [
            "Qual sua idade?: 2\n",
            "Qual sua idade?: 5\n",
            "Qual sua idade?: 20\n",
            "Qual sua idade?: sair\n",
            "Total de pessoas: 3\n",
            "Total arrecadado: 45\n",
            "Média arrecadada: 15.0\n"
          ]
        }
      ]
    },
    {
      "cell_type": "code",
      "source": [
        "salario = float(input('Qual o valor do seu salário?: R$ '))\n",
        "ano_adm = int(input('Qual o seu ano de admissão?: '))\n",
        "ano_atual = int(input('Qual o ano atual?: '))\n",
        "tempo = ano_atual - ano_adm\n",
        "if (tempo > 5):\n",
        " bonus = salario * 0.2\n",
        "else:\n",
        " bonus = salario * 0.1\n",
        "print('Você tem {} de empresa.'.format(tempo))\n",
        "print('Seu salário é: R${:.2f}'.format(salario))\n",
        "print('Sua bonificação é de R${:.2f}'.format(bonus))\n",
        "print('Seu salário final é de R${:.2f}'.format(salario + bonus))\n",
        "  \n",
        "\n",
        "  \n",
        "  "
      ],
      "metadata": {
        "colab": {
          "base_uri": "https://localhost:8080/"
        },
        "id": "TZGLkYPjFTXa",
        "outputId": "4604add9-6715-461a-9082-c0c318718780"
      },
      "execution_count": null,
      "outputs": [
        {
          "output_type": "stream",
          "name": "stdout",
          "text": [
            "Qual o valor do seu salário?: R$ 3000\n",
            "Qual o seu ano de admissão?: 2010\n",
            "Qual o ano atual?: 2022\n",
            "Você tem 12 de empresa.\n",
            "Seu salário é: R$3000.00\n",
            "Sua bonificação é de R$600.00\n",
            "Seu salário final é de R$3600.00\n"
          ]
        }
      ]
    },
    {
      "cell_type": "code",
      "source": [
        "# NOT\n",
        "\n",
        "x = True\n",
        "y = False\n",
        "print(not x)\n",
        "print(not y)"
      ],
      "metadata": {
        "colab": {
          "base_uri": "https://localhost:8080/"
        },
        "id": "51BrNRNYcZuG",
        "outputId": "ef5725b3-9bcf-411a-b541-4e27ba47021c"
      },
      "execution_count": null,
      "outputs": [
        {
          "output_type": "stream",
          "name": "stdout",
          "text": [
            "False\n",
            "True\n"
          ]
        }
      ]
    },
    {
      "cell_type": "code",
      "source": [
        "# AND\n",
        "\n",
        "x = True\n",
        "y = False\n",
        "print(x and y)"
      ],
      "metadata": {
        "colab": {
          "base_uri": "https://localhost:8080/"
        },
        "id": "EFE2B6l5cjHW",
        "outputId": "9b3d4709-1e82-4b40-95cb-0d42563e5763"
      },
      "execution_count": null,
      "outputs": [
        {
          "output_type": "stream",
          "name": "stdout",
          "text": [
            "False\n"
          ]
        }
      ]
    },
    {
      "cell_type": "code",
      "source": [
        "# OR\n",
        "\n",
        "x = True\n",
        "y = False\n",
        "print(x or y)"
      ],
      "metadata": {
        "colab": {
          "base_uri": "https://localhost:8080/"
        },
        "id": "fkQP_8FmctSo",
        "outputId": "9ddca219-8fa4-4d6d-c963-9be79f8c6fd6"
      },
      "execution_count": null,
      "outputs": [
        {
          "output_type": "stream",
          "name": "stdout",
          "text": [
            "True\n"
          ]
        }
      ]
    },
    {
      "cell_type": "code",
      "source": [
        "# OPERAÇÕES LÓGICAS BOOLEANAS\n",
        "\n",
        "x = 10\n",
        "y = 1\n",
        "res = not x > y\n",
        "print(res)\n"
      ],
      "metadata": {
        "colab": {
          "base_uri": "https://localhost:8080/"
        },
        "id": "X2EBWD89eoV3",
        "outputId": "d2483cfb-cbc8-441d-aa1d-978a68458284"
      },
      "execution_count": null,
      "outputs": [
        {
          "output_type": "stream",
          "name": "stdout",
          "text": [
            "False\n"
          ]
        }
      ]
    },
    {
      "cell_type": "code",
      "source": [
        "# AND - TRUE AND FALSE = FALSE\n",
        "\n",
        "x = 10\n",
        "y = 1\n",
        "z = 5.5\n",
        "res = (x > y) and (z == y)\n",
        "print(res)"
      ],
      "metadata": {
        "colab": {
          "base_uri": "https://localhost:8080/"
        },
        "id": "7kV6hmfpfTxb",
        "outputId": "3d989e9e-2056-4b1f-c288-cc3b46fae0b9"
      },
      "execution_count": null,
      "outputs": [
        {
          "output_type": "stream",
          "name": "stdout",
          "text": [
            "False\n"
          ]
        }
      ]
    },
    {
      "cell_type": "code",
      "source": [
        "# MANEIRA 1 DE RESOLVER A QUESTÃO - SEM O AND\n",
        "\n",
        "mat1 = float(input('Digite a nota da primeira matéria: '))\n",
        "mat2 = float(input('Digite a nota da segunda matéria: '))\n",
        "mat3 = float(input('Digite a nota da terceira matéria: '))\n",
        "nota = (mat1 + mat2 + mat3) / 3\n",
        "if nota > 7:\n",
        "  print('Sua média foi de {:.2f}'.format(nota))\n",
        "  print('Parabéns! Você passou de ano')\n",
        "else:\n",
        "  print('Sua média foi de {:.2f}'.format(nota))\n",
        "  print('Você foi reprovado')"
      ],
      "metadata": {
        "colab": {
          "base_uri": "https://localhost:8080/"
        },
        "id": "QSl-MkuolOVu",
        "outputId": "07a20974-e0b7-411e-9e05-04a1f5e8d1e0"
      },
      "execution_count": null,
      "outputs": [
        {
          "output_type": "stream",
          "name": "stdout",
          "text": [
            "Digite a nota da primeira matéria: 6\n",
            "Digite a nota da segunda matéria: 8\n",
            "Digite a nota da terceira matéria: 8\n",
            "Sua média foi de 7.33\n",
            "Parabéns! Você passou de ano\n"
          ]
        }
      ]
    },
    {
      "cell_type": "code",
      "source": [
        "# MANEIRA 2 DE RESOLVER A QUESTÃO - COM O AND\n",
        "\n",
        "mat1 = float(input('Digite a nota da primeira matéria: '))\n",
        "mat2 = float(input('Digite a nota da segunda matéria: '))\n",
        "mat3 = float(input('Digite a nota da terceira matéria: '))\n",
        "if mat1 >= 7 and mat2 >= 7 and mat3 >= 7:\n",
        "  print('Parabéns! Você passou de ano')\n",
        "else:\n",
        "  print('Você foi reprovado')"
      ],
      "metadata": {
        "colab": {
          "base_uri": "https://localhost:8080/"
        },
        "id": "aBXcM25trmFk",
        "outputId": "4b445c56-af53-4b27-82d7-91ebfe6521d6"
      },
      "execution_count": null,
      "outputs": [
        {
          "output_type": "stream",
          "name": "stdout",
          "text": [
            "Digite a nota da primeira matéria: 6\n",
            "Digite a nota da segunda matéria: 8\n",
            "Digite a nota da terceira matéria: 8\n",
            "Você foi reprovado\n"
          ]
        }
      ]
    },
    {
      "cell_type": "code",
      "source": [
        "from pickle import FALSE, TRUE\n",
        "altura = 0.00\n",
        "a = TRUE\n",
        "multi = 0.0\n",
        "volume = 0.0\n",
        "def dimensoesObejto():\n",
        "    try:\n",
        "        altura = float(input('Digite a altura do produto (em cm)'))\n",
        "        comprimento = float(input('Digite o comprimeto do produto (em cm)'))\n",
        "        largura = float(input('Digite a largura do produto (em cm)'))\n",
        "        volume = altura * comprimento * largura\n",
        "        return volume\n",
        "    except ValueError: \n",
        "        print('ERRO!!! Digite um valor númérico!')\n",
        "        dimensoesObejto()\n",
        "def pesoObejto():\n",
        "    try:\n",
        "        peso = float(input('Digite o peso do produto (em kg)'))\n",
        "        return peso\n",
        "        if peso < 0.1: \n",
        "            multi = 1            \n",
        "        elif 0.1 < peso <= 1: \n",
        "            multi = 1.5\n",
        "        elif 1 < peso <= 10: \n",
        "            multi = 2\n",
        "        elif 10 < peso <= 30: \n",
        "            multi = 1.5\n",
        "        elif peso > 30: \n",
        "            print('Permitido apenas peso até 30 kg, preencha novamente')\n",
        "            pesoObejto()\n",
        "    except ValueError: \n",
        "        print('ERRO!!! Digite um valor númérico!')\n",
        "        pesoObejto()\n",
        "print(volume)\n",
        "dimensoesObejto()\n",
        "pesoObejto()"
      ],
      "metadata": {
        "colab": {
          "base_uri": "https://localhost:8080/"
        },
        "id": "Y9dx828DWvJn",
        "outputId": "a7f4a7a9-875d-47ec-d06f-c06028abac78"
      },
      "execution_count": null,
      "outputs": [
        {
          "name": "stdout",
          "output_type": "stream",
          "text": [
            "0.0\n",
            "Digite a altura do produto (em cm)20\n",
            "Digite o comprimeto do produto (em cm)30\n",
            "Digite a largura do produto (em cm)25\n",
            "Digite o peso do produto (em kg)2\n"
          ]
        },
        {
          "output_type": "execute_result",
          "data": {
            "text/plain": [
              "2.0"
            ]
          },
          "metadata": {},
          "execution_count": 1
        }
      ]
    },
    {
      "cell_type": "code",
      "source": [
        "def borda(s1): # Estamos definindo o valor de BORDA no programa principal e aqui colocando ele no (s1). \"BORDA\"SERÁ NOSSA FUNÇÃO\" \n",
        "  tam = len(s1) # Estamos dizendo que o tamanho das bordas receberá o tamanho do (s1)\n",
        "  # Só imprime caso exista algum caractere\n",
        "  if tam: # Se o tamanho \n",
        "    print('+','-'* tam,'+') # Aqui o sistema vai multiplicar os traços pela quantidade de caracteres da minha string\n",
        "    print('|',s1,'|') # Aqui vai minha string\n",
        "    print('+','-'* tam,'+')\n",
        "\n",
        "    #Programa Principal\n",
        "borda('Olá Mundo!') #String que servirá de parâmetro para o (s1)\n",
        "borda('Lógica de Programação e Algorítimos') #String que servirá de parâmetro para o (s1)"
      ],
      "metadata": {
        "colab": {
          "base_uri": "https://localhost:8080/"
        },
        "id": "pD1uHriVuG1m",
        "outputId": "c1377007-380e-4fbf-a045-8ce3b3b1f3be"
      },
      "execution_count": null,
      "outputs": [
        {
          "output_type": "stream",
          "name": "stdout",
          "text": [
            "+ ---------- +\n",
            "| Olá Mundo! |\n",
            "+ ---------- +\n",
            "+ ----------------------------------- +\n",
            "| Lógica de Programação e Algorítimos |\n",
            "+ ----------------------------------- +\n"
          ]
        }
      ]
    },
    {
      "cell_type": "code",
      "source": [
        "# Exercício 2\n",
        "\n",
        "def contador(fim, inicio=0, passo=1):\n",
        "  for i in range(inicio, fim, passo):\n",
        "    print('{} '.format(i), end='')\n",
        "  print('\\n')\n",
        "\n",
        "# Programa Principal\n",
        "\n",
        "contador(20, 10, 2)\n",
        "contador(18)\n"
      ],
      "metadata": {
        "colab": {
          "base_uri": "https://localhost:8080/"
        },
        "id": "4R9BxkEX0-Li",
        "outputId": "cce376c0-65af-4533-cdc7-a37fcb402772"
      },
      "execution_count": null,
      "outputs": [
        {
          "output_type": "stream",
          "name": "stdout",
          "text": [
            "10 12 14 16 18 \n",
            "\n",
            "0 1 2 3 4 5 6 7 8 9 10 11 12 13 14 15 16 17 \n",
            "\n"
          ]
        }
      ]
    },
    {
      "cell_type": "code",
      "source": [
        "# Exercício 3\n",
        "\n",
        "def maior3(v1=0, v2=0, v3=0):\n",
        "  if (v1 and v2 and v3):\n",
        "    if ((v1 > v2) and (v1 > v3)):\n",
        "      if (v2 > v3):\n",
        "        print('Ordem crescente: {}, {}, {} '.format(v3, v2, v1), end='')\n",
        "      else:\n",
        "        print('Ordem crescente: {}, {}, {} '.format(v2, v3, v1), end='')\n",
        "    elif ((v2 > v1) and (v2 > v3)):\n",
        "      if (v1 > v3):\n",
        "        print('Ordem crescente: {}, {}, {} '.format(v3, v1, v2), end='')\n",
        "      else:\n",
        "        print('Ordem crescente: {}, {}, {} '.format(v1, v3, v2), end='')\n",
        "    elif ((v3 > v2)):\n",
        "      if (v1 > v2):\n",
        "        print('Ordem crescente: {}, {}, {}'.format(v2, v1, v3), end='')\n",
        "      else:\n",
        "        print('Ordem crescente: {}, {}, {}'.format(v1, v2, v3), end='')\n",
        "          \n",
        "\n",
        "x = int(input('Digite o valor 1: '))\n",
        "y = int(input('Digite o valor 2: '))\n",
        "z = int(input('Digite o valor 3: '))\n",
        "maior3(x, y, z)\n",
        "        \n"
      ],
      "metadata": {
        "id": "XhCEC6OkHwnV",
        "colab": {
          "base_uri": "https://localhost:8080/"
        },
        "outputId": "e8dbcc3b-08e6-4a6c-bda9-c8d662ef7846"
      },
      "execution_count": null,
      "outputs": [
        {
          "output_type": "stream",
          "name": "stdout",
          "text": [
            "Digite o valor 1: 5\n",
            "Digite o valor 2: 4\n",
            "Digite o valor 3: 9\n",
            "Ordem crescente: 4, 5, 9"
          ]
        }
      ]
    },
    {
      "cell_type": "code",
      "source": [
        "# Definições de ESCOPOS DE VARIÁVEIS\n",
        "\n",
        "def comida():\n",
        "  print(ovos) # Variável criada desntro do escopo global\n",
        "\n",
        "  # Programa principal\n",
        "ovos = 12 # Por isso que ela receberá a quantidade desejada e será printada\n",
        "comida()\n",
        "\n"
      ],
      "metadata": {
        "colab": {
          "base_uri": "https://localhost:8080/"
        },
        "id": "zJjrdeoRbFAw",
        "outputId": "7213adf5-a699-4806-810c-5d74eb175c8e"
      },
      "execution_count": null,
      "outputs": [
        {
          "output_type": "stream",
          "name": "stdout",
          "text": [
            "12\n"
          ]
        }
      ]
    },
    {
      "cell_type": "code",
      "source": [
        "def comida():\n",
        "  ovos = 12 # Variável criada dentro da FUNÇÃO LOCAL comida\n",
        "  bacon()\n",
        "  print(ovos)\n",
        "\n",
        "def bacon():\n",
        "  ovos = 6 # Variável criada dentro da FUNÇÃO LOCAL bacon.    Elas não interferem entre si, apesar de terem o mesmo nome.\n",
        "\n",
        "  # Programa principal\n",
        "  \n",
        "comida() # Ele vai printar 12 pq o PRINT invocado entá dentro da FUNÇÃO (comida) e não na do (bacon)"
      ],
      "metadata": {
        "colab": {
          "base_uri": "https://localhost:8080/"
        },
        "id": "LKIuQOcucZys",
        "outputId": "f2c03e87-03a3-4447-f959-b3d50f8488a8"
      },
      "execution_count": null,
      "outputs": [
        {
          "output_type": "stream",
          "name": "stdout",
          "text": [
            "12\n"
          ]
        }
      ]
    },
    {
      "cell_type": "code",
      "source": [
        "def comida():\n",
        "  ovos = 'Variável de comida'\n",
        "  print(ovos)\n",
        "\n",
        "def bacon():\n",
        "  ovos = 'Variável local de bacon' # Substitui a variável global de mesmo nome (ovos)\n",
        "  print(ovos)\n",
        "  comida()\n",
        "  print(ovos)\n",
        "\n",
        "  # Programa principal\n",
        "\n",
        "ovos = 'Variável global'\n",
        "bacon()\n",
        "print(ovos) # Esse é o print da variável global de (ovos)"
      ],
      "metadata": {
        "colab": {
          "base_uri": "https://localhost:8080/"
        },
        "id": "NxAEqWN8eenz",
        "outputId": "04bbbdf8-f6ae-4ae7-d691-37fc4edc4757"
      },
      "execution_count": null,
      "outputs": [
        {
          "output_type": "stream",
          "name": "stdout",
          "text": [
            "Variável local de bacon\n",
            "Variável de comida\n",
            "Variável local de bacon\n",
            "Variável global\n"
          ]
        }
      ]
    },
    {
      "cell_type": "code",
      "source": [
        "def comida(): # INSTRUÇÃO GLOBAL\n",
        "  global ovos\n",
        "  ovos = 'comida'\n",
        "\n",
        "  # Programa principal\n",
        "\n",
        "ovos = 'global'\n",
        "comida()\n",
        "print(ovos) "
      ],
      "metadata": {
        "colab": {
          "base_uri": "https://localhost:8080/"
        },
        "id": "UO02lUnqgnQP",
        "outputId": "c0036d05-d5f2-44a8-c759-358fbe2c89ba"
      },
      "execution_count": null,
      "outputs": [
        {
          "output_type": "stream",
          "name": "stdout",
          "text": [
            "comida\n"
          ]
        }
      ]
    },
    {
      "cell_type": "code",
      "source": [
        "def univ(nome):\n",
        "  print('|', '*' * 5, '|')\n",
        "  print(nome)\n",
        "  print('|', '*' * 5, '|')\n",
        "\n",
        "univ(' Luciano')"
      ],
      "metadata": {
        "colab": {
          "base_uri": "https://localhost:8080/"
        },
        "id": "uD326-F2Aet0",
        "outputId": "91d8cdbb-f1bf-4d16-eec5-9e3efba1579f"
      },
      "execution_count": null,
      "outputs": [
        {
          "output_type": "stream",
          "name": "stdout",
          "text": [
            "| ***** |\n",
            " Luciano\n",
            "| ***** |\n"
          ]
        }
      ]
    },
    {
      "cell_type": "code",
      "source": [
        "# Exemplo utilizando dois parâmetros entre parênteses\n",
        "\n",
        "def subtrair2(x, y):\n",
        "  resposta = x - y\n",
        "  print(resposta)\n",
        "\n",
        "subtrair2(10, 5)"
      ],
      "metadata": {
        "colab": {
          "base_uri": "https://localhost:8080/"
        },
        "id": "tH5cGID6DajK",
        "outputId": "e7c0f221-66fd-43a1-aacd-79458b313ff5"
      },
      "execution_count": null,
      "outputs": [
        {
          "output_type": "stream",
          "name": "stdout",
          "text": [
            "5\n"
          ]
        }
      ]
    },
    {
      "cell_type": "code",
      "source": [
        "# Exemplo utilizando a nomeação dos parâmetros\n",
        "\n",
        "def subtrair2(x = 8, y = 5):\n",
        "  resposta = x - y\n",
        "  print(resposta)\n",
        "\n",
        "subtrair2()\n",
        "\n"
      ],
      "metadata": {
        "colab": {
          "base_uri": "https://localhost:8080/"
        },
        "id": "uE1SqZVpEyGN",
        "outputId": "41c75b3f-7388-4b65-c256-0f6e7f734343"
      },
      "execution_count": null,
      "outputs": [
        {
          "output_type": "stream",
          "name": "stdout",
          "text": [
            "3\n"
          ]
        }
      ]
    },
    {
      "cell_type": "code",
      "source": [
        "# parâmetros opcionais\n",
        "\n",
        "def soma3(x = 0, y = 0, z = 0):\n",
        "  resultado = (x + y + z)\n",
        "  print(resultado)\n",
        "\n",
        "soma3(1, 2, 3)\n",
        "soma3(1, 2) # z foi omitido\n",
        "soma3(1) # y e z foram omitidos\n",
        "soma3() # x, y e z foram omitidos"
      ],
      "metadata": {
        "colab": {
          "base_uri": "https://localhost:8080/"
        },
        "id": "5VWstaL6GDP7",
        "outputId": "ed405e60-3e4d-44dc-9c69-205ce8910723"
      },
      "execution_count": null,
      "outputs": [
        {
          "output_type": "stream",
          "name": "stdout",
          "text": [
            "6\n",
            "3\n",
            "1\n",
            "0\n"
          ]
        }
      ]
    },
    {
      "cell_type": "code",
      "source": [
        ""
      ],
      "metadata": {
        "id": "EKge5R-bGDNi"
      },
      "execution_count": null,
      "outputs": []
    },
    {
      "cell_type": "code",
      "source": [
        "# RETORNO DE VALORES EM FUNÇÕES\n",
        "\n",
        "def soma3(x = 0, y = 0, z = 0):\n",
        "  res = x + y + z\n",
        "  return res\n",
        "\n",
        "retornado = soma3(1,2,3)\n",
        "print(retornado)"
      ],
      "metadata": {
        "colab": {
          "base_uri": "https://localhost:8080/"
        },
        "id": "XbqhAynKXFHV",
        "outputId": "7d8c7e00-2386-430c-9b5e-b6e4aaffbd95"
      },
      "execution_count": null,
      "outputs": [
        {
          "output_type": "stream",
          "name": "stdout",
          "text": [
            "6\n"
          ]
        }
      ]
    },
    {
      "cell_type": "code",
      "source": [
        "while True: # TRATAMENTO DE ERRO DE EXCEÇÃO\n",
        "  try:\n",
        "    x = int(input('Por favor, digite um número: '))\n",
        "    break\n",
        "  except ValueError:\n",
        "    print('Ops! Número inválido. Tente novamente...')"
      ],
      "metadata": {
        "colab": {
          "base_uri": "https://localhost:8080/"
        },
        "id": "1zzC1alMbxO1",
        "outputId": "356583c2-53fb-4124-8789-5038662e5f6c"
      },
      "execution_count": null,
      "outputs": [
        {
          "name": "stdout",
          "output_type": "stream",
          "text": [
            "Por favor, digite um número: g\n",
            "Ops! Número inválido. Tente novamente...\n",
            "Por favor, digite um número: f\n",
            "Ops! Número inválido. Tente novamente...\n",
            "Por favor, digite um número: 4\n"
          ]
        }
      ]
    },
    {
      "cell_type": "code",
      "source": [
        "# FUNÇÃO LAMBDA\n",
        "\n",
        "res = lambda x: x * x\n",
        "print(res(3))"
      ],
      "metadata": {
        "colab": {
          "base_uri": "https://localhost:8080/"
        },
        "id": "qa5_of7NeQ_c",
        "outputId": "3035ac39-fa5e-4e5a-9ce1-9076e99d319c"
      },
      "execution_count": null,
      "outputs": [
        {
          "output_type": "stream",
          "name": "stdout",
          "text": [
            "9\n"
          ]
        }
      ]
    },
    {
      "cell_type": "code",
      "source": [
        "# FUNÇÃO LAMBDA SOMA\n",
        "\n",
        "soma = lambda x, y: x + y\n",
        "print(soma(3,5))"
      ],
      "metadata": {
        "colab": {
          "base_uri": "https://localhost:8080/"
        },
        "id": "EiAHmkmielpQ",
        "outputId": "8eaf1d51-b791-4ad9-8cf0-6860e6dea280"
      },
      "execution_count": null,
      "outputs": [
        {
          "output_type": "stream",
          "name": "stdout",
          "text": [
            "8\n"
          ]
        }
      ]
    },
    {
      "cell_type": "code",
      "source": [
        "# CRIANDO UM HELP DENTRO DO SISTEMA / UMA DOCSTRING\n",
        "\n",
        "def soma(x=0, y=0, z=0):\n",
        "  \"\"\"\n",
        "  FUNÇÃO QUE SOMA ATÉ TRÊS VALORES INTEIROS\n",
        "  :param x: Valor inteiro opcional\n",
        "  :param y:\n",
        "  :param z:\n",
        "  :return: Soma inteira\n",
        "  \"\"\"\n",
        "\n",
        "  return x + y + z\n",
        "\n",
        "print(soma(2, 3))\n",
        "help(soma)"
      ],
      "metadata": {
        "colab": {
          "base_uri": "https://localhost:8080/"
        },
        "id": "YOWgXTofnKQp",
        "outputId": "9a24100c-c6ff-46e0-9be9-ec3299062a81"
      },
      "execution_count": null,
      "outputs": [
        {
          "output_type": "stream",
          "name": "stdout",
          "text": [
            "5\n",
            "Help on function soma in module __main__:\n",
            "\n",
            "soma(x=0, y=0, z=0)\n",
            "    FUNÇÃO QUE SOMA ATÉ TRÊS VALORES INTEIROS\n",
            "    :param x: Valor inteiro opcional\n",
            "    :param y:\n",
            "    :param z:\n",
            "    :return: Soma inteira\n",
            "\n"
          ]
        }
      ]
    },
    {
      "cell_type": "code",
      "source": [
        "# VALIDANDO DADOS\n",
        "\n",
        "def valida_int(pergunta, min, max):\n",
        "    x = int(input(pergunta))\n",
        "    while ((x < min) or (x > max)):\n",
        "        x = int(input(pergunta))\n",
        "    return x\n",
        "\n",
        "def fatorial(num):\n",
        "    fat = 1\n",
        "    if num == 0:\n",
        "      return fat\n",
        "    for i in range(1,num+1,1):\n",
        "        fat *= i # fat = fat * 1\n",
        "    return fat\n",
        "\n",
        "# Programa Principal\n",
        "\n",
        "x = valida_int('Digite um valor para calcular a Fatorial: ', 0, 99999)\n",
        "print('{}! = {},'.format(x,fatorial(x)))"
      ],
      "metadata": {
        "colab": {
          "base_uri": "https://localhost:8080/"
        },
        "id": "mvhRucJXw_no",
        "outputId": "885bdf9a-f655-4f18-af79-418bbcdff698"
      },
      "execution_count": null,
      "outputs": [
        {
          "output_type": "stream",
          "name": "stdout",
          "text": [
            "Digite um valor para calcular a Fatorial: -8\n",
            "Digite um valor para calcular a Fatorial: 5\n",
            "5! = 120,\n"
          ]
        }
      ]
    },
    {
      "cell_type": "code",
      "source": [
        "#--------COMEÇO DA FUNÇÃO DIMENSOESOBJETO-------\n",
        "def dimensoesObjeto():\n",
        "    while True:\n",
        "        try:\n",
        "            dimeOb = float(input('Qual é a altura do objeto em centímetros: '))\n",
        "            if (dimeOb > 0) and (dimeOb <= 1000):\n",
        "                return 10.00\n",
        "            elif (dimeOb >= 1001) and (dimeOb <= 10000):\n",
        "                return 20.00\n",
        "            elif (dimeOb >= 10001) and (dimeOb <= 30000):\n",
        "                return 30.00\n",
        "            elif (dimeOb >= 30001) and (dimeOb <= 100000):\n",
        "                return 50.00\n",
        "            else:\n",
        "                print('Desculpas, mas não trabalhamos com produtos desse tamanho! Digite novamente: ')\n",
        "            continue\n",
        "        except ValueError:\n",
        "            print('Digite valores numéricos. Tente novamente.')\n",
        "            continue\n",
        "\n",
        "#-----------FIM DA FUNÇÃO DIMENSOESOBJETO-------\n",
        "\n",
        "#-------------COMEÇO DA FUNÇÃO PESOOBJETO-------\n",
        "def pesoObjeto():\n",
        "    while True:\n",
        "        try:\n",
        "            pesoOb = float(input('Entre com o peso do objeto: Kg '))\n",
        "            if (pesoOb > 0) and (pesoOb <= 0.1):\n",
        "                return 1\n",
        "            elif (pesoOb >= 0.11) and (pesoOb <= 1):\n",
        "                return 1.5\n",
        "            elif (pesoOb >= 1.10) and (pesoOb <= 10):\n",
        "                return 2\n",
        "            elif (pesoOb >= 10.1) and (pesoOb <= 30):\n",
        "                return 3\n",
        "            else:\n",
        "                print('Peso não aceito! Digite novamente')\n",
        "            continue\n",
        "        except ValueError:\n",
        "            print('Digite um valor numérico. Tente novamente.')\n",
        "            continue\n",
        "#----------------FIM DA FUNÇÃO PESOOBJETO-------\n",
        "\n",
        "#-------------COMEÇO DA FUNÇÃO ROTAOBJETO-------\n",
        "def rotaObjeto():\n",
        "    while True:\n",
        "        rotaObjt = str(input('Para onde deseja enviar o produto? \\n RS - De: RJ para SP \\n SR - De: SP para RJ \\n BS '\n",
        "        '- De: DF para SP \\n SB - de: SP para DF \\n BR - De: DF para RJ \\n RB - de: RJ para DF \\n>>'))\n",
        "        if rotaObjt == 'RS':\n",
        "            return 1\n",
        "        elif rotaObjt == 'SR':\n",
        "            return 1\n",
        "        elif rotaObjt == 'BS':\n",
        "            return 1.2\n",
        "        elif rotaObjt == 'SB':\n",
        "            return 1.2\n",
        "        elif rotaObjt == 'BR':\n",
        "            return 1.5\n",
        "        elif rotaObjt == 'RB':\n",
        "            return 1.5\n",
        "        else:\n",
        "            print('Você digitou uma rota que não existe')\n",
        "        continue\n",
        "\n",
        "#----------------FIM DA FUNÇÃO ROTAOBJETO-------\n",
        "\n",
        "\n",
        "#--------------------------COMEÇO DA MAIN-------\n",
        "print('Bem-vindo a empresa de Logística Luciano da Silva!')\n",
        "tamObj = dimensoesObjeto()\n",
        "pesoObj = pesoObjeto()\n",
        "rotaObj = rotaObjeto()\n",
        "print('{:.2f}'.format(tamObj))\n",
        "print('{:.2f}'.format(pesoObj))\n",
        "print('{:.2f}'.format(rotaObj))\n",
        "valor_total = tamObj * pesoObj * rotaObj\n",
        "print('O valor total a pager é de R$: {:.2f}'.format(valor_total))\n",
        "\n",
        "\n",
        "# ----------------------------FIM DA MAIN-------"
      ],
      "metadata": {
        "colab": {
          "base_uri": "https://localhost:8080/"
        },
        "id": "FZkvd0i68iq8",
        "outputId": "11e32186-a7f6-4070-871d-652554a285e4"
      },
      "execution_count": null,
      "outputs": [
        {
          "output_type": "stream",
          "name": "stdout",
          "text": [
            "Bem-vindo a empresa de Logística Luciano da Silva!\n",
            "Qual é a altura do objeto em centímetros: 100\n",
            "Entre com o peso do objeto: Kg 20\n",
            "Para onde deseja enviar o produto? \n",
            " RS - De: RJ para SP \n",
            " SR - De: SP para RJ \n",
            " BS - De: DF para SP \n",
            " SB - de: SP para DF \n",
            " BR - De: DF para RJ \n",
            " RB - de: RJ para DF \n",
            ">>sb\n",
            "Você digitou uma rota que não existe\n",
            "Para onde deseja enviar o produto? \n",
            " RS - De: RJ para SP \n",
            " SR - De: SP para RJ \n",
            " BS - De: DF para SP \n",
            " SB - de: SP para DF \n",
            " BR - De: DF para RJ \n",
            " RB - de: RJ para DF \n",
            ">>SB\n",
            "10.00\n",
            "3.00\n",
            "1.20\n",
            "O valor total a pager é de R$: 36.00\n"
          ]
        }
      ]
    },
    {
      "cell_type": "code",
      "source": [
        "# AULA 6 - TUPLAS \n",
        "\n",
        "mochila = ('Machado', 'Camisa', 'Bacon', 'Abacate')\n",
        "print(mochila)     # printa todos os ítens\n",
        "print(mochila[0])  # printa ítem 0\n",
        "print(mochila[1])\n",
        "print(mochila[2])\n",
        "print(mochila[3])\n",
        "print(mochila[0:2])\n",
        "print(mochila[2:])\n",
        "print(mochila[-1])  # printa de trás para frente quando negativo\n"
      ],
      "metadata": {
        "colab": {
          "base_uri": "https://localhost:8080/"
        },
        "id": "JXni0r2crCx6",
        "outputId": "d3796cc8-32ed-40ec-eb61-ea4f1f49d2c8"
      },
      "execution_count": null,
      "outputs": [
        {
          "output_type": "stream",
          "name": "stdout",
          "text": [
            "('Machado', 'Camisa', 'Bacon', 'Abacate')\n",
            "Machado\n",
            "Camisa\n",
            "Bacon\n",
            "Abacate\n",
            "('Machado', 'Camisa')\n",
            "('Bacon', 'Abacate')\n",
            "Abacate\n"
          ]
        }
      ]
    },
    {
      "cell_type": "code",
      "source": [
        "mochila[2] = 'Ovos' # Vai dar ERRO porque os ítens da Tupla são imutáveis"
      ],
      "metadata": {
        "colab": {
          "base_uri": "https://localhost:8080/",
          "height": 166
        },
        "id": "dpR7Q0sWs6aG",
        "outputId": "2bafcdcb-6935-4f13-fadb-04c19b39ae44"
      },
      "execution_count": null,
      "outputs": [
        {
          "output_type": "error",
          "ename": "TypeError",
          "evalue": "ignored",
          "traceback": [
            "\u001b[0;31m---------------------------------------------------------------------------\u001b[0m",
            "\u001b[0;31mTypeError\u001b[0m                                 Traceback (most recent call last)",
            "\u001b[0;32m<ipython-input-12-10e5e4bdcd85>\u001b[0m in \u001b[0;36m<module>\u001b[0;34m()\u001b[0m\n\u001b[0;32m----> 1\u001b[0;31m \u001b[0mmochila\u001b[0m\u001b[0;34m[\u001b[0m\u001b[0;36m2\u001b[0m\u001b[0;34m]\u001b[0m \u001b[0;34m=\u001b[0m \u001b[0;34m'Ovos'\u001b[0m\u001b[0;34m\u001b[0m\u001b[0;34m\u001b[0m\u001b[0m\n\u001b[0m",
            "\u001b[0;31mTypeError\u001b[0m: 'tuple' object does not support item assignment"
          ]
        }
      ]
    },
    {
      "cell_type": "code",
      "source": [
        "mochila = ('Machado', 'Camisa', 'Bacon', 'Abacate')\n",
        "for item in mochila:\n",
        "  print('Na minha mochila tem: {}'.format(item))"
      ],
      "metadata": {
        "colab": {
          "base_uri": "https://localhost:8080/"
        },
        "id": "DmWWOgO-thv8",
        "outputId": "d3516ba7-08d4-4a8a-a510-deae64dcbaee"
      },
      "execution_count": null,
      "outputs": [
        {
          "output_type": "stream",
          "name": "stdout",
          "text": [
            "Na minha mochila tem: Machado\n",
            "Na minha mochila tem: Camisa\n",
            "Na minha mochila tem: Bacon\n",
            "Na minha mochila tem: Abacate\n"
          ]
        }
      ]
    },
    {
      "cell_type": "code",
      "source": [
        "mochila = ('Machado', 'Camisa', 'Bacon', 'Abacate')\n",
        "for item in mochila[1:2]:\n",
        "  print('Na minha mochila tem: {}'.format(item))"
      ],
      "metadata": {
        "colab": {
          "base_uri": "https://localhost:8080/"
        },
        "id": "Ocv3bY8fuH_0",
        "outputId": "45c16822-2ca2-49b2-8371-5972e074b91f"
      },
      "execution_count": null,
      "outputs": [
        {
          "output_type": "stream",
          "name": "stdout",
          "text": [
            "Na minha mochila tem: Camisa\n"
          ]
        }
      ]
    },
    {
      "cell_type": "code",
      "source": [
        "mochila = ('Machado', 'Camisa', 'Bacon', 'Abacate')\n",
        "upgrade = ('Queijo', 'Canivete')\n",
        "mochila_grande = mochila + upgrade\n",
        "print(mochila)\n",
        "print(upgrade)\n",
        "print(mochila_grande)"
      ],
      "metadata": {
        "colab": {
          "base_uri": "https://localhost:8080/"
        },
        "id": "FxXlOTvVvU91",
        "outputId": "4a24f63d-f3af-4df9-e899-dd034bca18a7"
      },
      "execution_count": null,
      "outputs": [
        {
          "output_type": "stream",
          "name": "stdout",
          "text": [
            "('Machado', 'Camisa', 'Bacon', 'Abacate')\n",
            "('Queijo', 'Canivete')\n",
            "('Machado', 'Camisa', 'Bacon', 'Abacate', 'Queijo', 'Canivete')\n"
          ]
        }
      ]
    },
    {
      "cell_type": "code",
      "source": [
        "def soma(*num): # O asterístico significa DESEMPACOTAMENTO\n",
        "  soma = 0 # Aqui a tupla formada será utilizada\n",
        "  print('Tupla: {}'.format(num))\n",
        "  for i in num:\n",
        "    soma += i\n",
        "  return soma\n",
        "\n",
        "print('Resultado: {}\\n'.format(soma(1,2)))\n",
        "print('Resultado: {}\\n'.format(soma(1,2,3,4,5,6,7,8,9))) # Todos esses parâmetros serão jogados dentro da variável \"num\" e criará uma TUPLA"
      ],
      "metadata": {
        "colab": {
          "base_uri": "https://localhost:8080/"
        },
        "id": "dkUNLewG1CzI",
        "outputId": "8bddf1ee-d178-44fb-95f4-04ed8c20dfd3"
      },
      "execution_count": null,
      "outputs": [
        {
          "output_type": "stream",
          "name": "stdout",
          "text": [
            "Tupla: (1, 2)\n",
            "Resultado: 3\n",
            "\n",
            "Tupla: (1, 2, 3, 4, 5, 6, 7, 8, 9)\n",
            "Resultado: 45\n",
            "\n"
          ]
        }
      ]
    },
    {
      "cell_type": "code",
      "source": [
        "\n",
        "\n",
        "\n"
      ],
      "metadata": {
        "id": "kyxEm4xIctpz"
      },
      "execution_count": null,
      "outputs": []
    }
  ]
}